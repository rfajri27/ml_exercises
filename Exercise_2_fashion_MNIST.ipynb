{
 "cells": [
  {
   "cell_type": "markdown",
   "id": "mexican-forth",
   "metadata": {},
   "source": [
    "# Fashion Clasifications\n",
    "\n",
    "In this exercise, we are using **Fashion MNIST Data Set**. This data set contain:\n",
    "* 70K image of clothing\n",
    "* 10 Categories\n",
    "* Each image are 28x28\n",
    "* Each pixel-value is an integer between 0 and 255\n",
    "* Using numbers for labeling each image\n",
    "* Can train a neural net!\n"
   ]
  },
  {
   "cell_type": "markdown",
   "id": "finite-blood",
   "metadata": {},
   "source": [
    "## Load training and testing data\n",
    "\n",
    "In this model, we will use 60K image data to train the network and 10K image data to test our model.\n",
    "\n",
    "* train_images/test_images : data image\n",
    "* train_labels/test_labels : label of each image\n",
    "\n",
    "Label | Description\n",
    "--- | ---\n",
    "0 | T-shirt/top\n",
    "1 | Trouser\n",
    "2 | Pullover\n",
    "3 | Dress\n",
    "4 | Coat\n",
    "5 | Sandal\n",
    "6 | Sirt\n",
    "7 | Sneaker\n",
    "8 | Bag\n",
    "9 | Ankle boot"
   ]
  },
  {
   "cell_type": "code",
   "execution_count": 1,
   "id": "neural-usage",
   "metadata": {},
   "outputs": [],
   "source": [
    "import tensorflow as tf\n",
    "\n",
    "\n",
    "mnist = tf.keras.datasets.fashion_mnist\n",
    "(training_images, training_labels), (test_images, test_labels) = mnist.load_data()"
   ]
  },
  {
   "cell_type": "markdown",
   "id": "indoor-stand",
   "metadata": {},
   "source": [
    "## Plot data images"
   ]
  },
  {
   "cell_type": "code",
   "execution_count": 2,
   "id": "incoming-column",
   "metadata": {},
   "outputs": [
    {
     "name": "stdout",
     "output_type": "stream",
     "text": [
      "3\n",
      "[[  0   0   0   0   0   1   0   0   0  65  99   0   0   0   0   0   0   0\n",
      "  106  60   0   0   0   0   0   0   0   0]\n",
      " [  0   0   0   0   0   1   0  17 190 206 202 145 148 146 148 166 165 189\n",
      "  212 210 202   0   0   0   0   0   0   0]\n",
      " [  0   0   0   0   0   0   0 160 229 193 189 197 169 182 109 165 156 202\n",
      "  198 196 233  96   0   0   0   0   0   0]\n",
      " [  0   0   0   0   0   0   2 199 198 213 193 201 207 196 172 211 206 207\n",
      "  200 202 208 217   0   0   0   0   0   0]\n",
      " [  0   0   0   0   0   0 139 205 200 207 190 192 210 210 208 212 208 197\n",
      "  201 210 206 205  83   0   0   0   0   0]\n",
      " [  0   0   0   0   0   2 196 220 200 200 190 193 199 222 222 225 199 198\n",
      "  210 212 218 227 189   0   0   0   0   0]\n",
      " [  0   0   0   0   0   0   0 162 215 199 192 196 195 204 221 200 195 205\n",
      "  208 218 235 170   0   0   0   0   0   0]\n",
      " [  0   0   0   0   0   0   0   0 172 240 192 204 203 206 203 199 206 215\n",
      "  211 232 114   0   0   0   0   0   0   0]\n",
      " [  0   0   0   0   0   0   2   0   0  32 235 200 206 208 205 204 208 215\n",
      "  252  10   0   0   0   0   0   0   0   0]\n",
      " [  0   0   0   0   0   1   0   3   0  12 247 201 208 210 206 208 211 216\n",
      "  255   0   0   0   0   0   0   0   0   0]\n",
      " [  0   0   0   0   0   0   0   2   0   5 247 205 214 207 208 211 211 220\n",
      "  251   0   0   1   0   0   0   0   0   0]\n",
      " [  0   0   0   0   0   0   0   1   0   0 241 210 210 207 213 214 211 222\n",
      "  241   0   0   1   0   0   0   0   0   0]\n",
      " [  0   0   0   0   0   0   1   0   0   0 202 217 206 211 216 219 212 226\n",
      "  226   0   0   1   0   0   0   0   0   0]\n",
      " [  0   0   0   0   0   1   0   0   0   0 214 213 208 204 223 210 213 216\n",
      "  213  17   0   2   0   0   0   0   0   0]\n",
      " [  0   0   0   0   0   0   0   2   0  99 218 202 211 205 220 205 215 205\n",
      "  229 152   0   0   0   0   0   0   0   0]\n",
      " [  0   0   0   0   0   0   0   1   0 165 214 204 211 213 214 211 217 208\n",
      "  219 203   0   0   0   0   0   0   0   0]\n",
      " [  0   0   0   0   0   0   0   0   0 188 213 208 206 212 218 208 216 204\n",
      "  218 197   0   0   2   0   0   0   0   0]\n",
      " [  0   0   0   0   0   0   1   0   0 213 210 216 204 214 217 205 217 208\n",
      "  215 212   2   0   2   0   0   0   0   0]\n",
      " [  0   0   0   0   0   0   2   0   0 225 210 219 201 214 218 205 216 207\n",
      "  214 221  17   0   2   0   0   0   0   0]\n",
      " [  0   0   0   0   0   0   2   0   0 197 211 215 200 216 219 210 215 208\n",
      "  213 227  35   0   2   0   0   0   0   0]\n",
      " [  0   0   0   0   0   0   3   0   3 206 210 219 199 215 222 210 215 211\n",
      "  211 228  60   0   2   0   0   0   0   0]\n",
      " [  0   0   0   0   0   0   2   0  11 208 211 220 200 215 223 211 214 212\n",
      "  210 229  69   0   2   0   0   0   0   0]\n",
      " [  0   0   0   0   0   0   2   0   7 207 213 218 201 216 222 214 213 213\n",
      "  211 228  61   0   2   0   0   0   0   0]\n",
      " [  0   0   0   0   0   0   2   0   0 203 215 217 201 216 222 213 213 213\n",
      "  212 228  47   0   3   0   0   0   0   0]\n",
      " [  0   0   0   0   0   0   2   0   0 196 218 216 201 216 223 214 212 215\n",
      "  214 226  27   0   2   0   0   0   0   0]\n",
      " [  0   0   0   0   0   0   2   0   0 221 221 212 202 216 222 216 212 213\n",
      "  212 221  17   0   3   0   0   0   0   0]\n",
      " [  0   0   0   0   0   0   1   0   0 203 227 212 213 228 235 229 226 226\n",
      "  217 225  17   0   2   0   0   0   0   0]\n",
      " [  0   0   0   0   0   0   0   0   0 176 216 202 184 178 188 184 185 183\n",
      "  199 207   3   0   2   0   0   0   0   0]]\n"
     ]
    },
    {
     "data": {
      "image/png": "[encoded data removed]",
      "text/plain": [
       "<Figure size 432x288 with 1 Axes>"
      ]
     },
     "metadata": {
      "needs_background": "light"
     },
     "output_type": "display_data"
    }
   ],
   "source": [
    "import matplotlib.pyplot as plt\n",
    "\n",
    "plt.imshow(training_images[20])\n",
    "print(training_labels[20])\n",
    "print(training_images[20])"
   ]
  },
  {
   "cell_type": "markdown",
   "id": "aware-retro",
   "metadata": {},
   "source": [
    "## Normalazing\n",
    "\n",
    "The values in the number are between 0 and 255. The training process will easier if we treat all values as between 0 and 1."
   ]
  },
  {
   "cell_type": "code",
   "execution_count": 3,
   "id": "stuck-sleeping",
   "metadata": {},
   "outputs": [],
   "source": [
    "training_images = training_images / 255.0\n",
    "test_images = test_images / 255.0"
   ]
  },
  {
   "cell_type": "code",
   "execution_count": 4,
   "id": "accompanied-studio",
   "metadata": {},
   "outputs": [
    {
     "name": "stdout",
     "output_type": "stream",
     "text": [
      "3\n",
      "[[0.         0.         0.         0.         0.         0.00392157\n",
      "  0.         0.         0.         0.25490196 0.38823529 0.\n",
      "  0.         0.         0.         0.         0.         0.\n",
      "  0.41568627 0.23529412 0.         0.         0.         0.\n",
      "  0.         0.         0.         0.        ]\n",
      " [0.         0.         0.         0.         0.         0.00392157\n",
      "  0.         0.06666667 0.74509804 0.80784314 0.79215686 0.56862745\n",
      "  0.58039216 0.57254902 0.58039216 0.65098039 0.64705882 0.74117647\n",
      "  0.83137255 0.82352941 0.79215686 0.         0.         0.\n",
      "  0.         0.         0.         0.        ]\n",
      " [0.         0.         0.         0.         0.         0.\n",
      "  0.         0.62745098 0.89803922 0.75686275 0.74117647 0.77254902\n",
      "  0.6627451  0.71372549 0.42745098 0.64705882 0.61176471 0.79215686\n",
      "  0.77647059 0.76862745 0.91372549 0.37647059 0.         0.\n",
      "  0.         0.         0.         0.        ]\n",
      " [0.         0.         0.         0.         0.         0.\n",
      "  0.00784314 0.78039216 0.77647059 0.83529412 0.75686275 0.78823529\n",
      "  0.81176471 0.76862745 0.6745098  0.82745098 0.80784314 0.81176471\n",
      "  0.78431373 0.79215686 0.81568627 0.85098039 0.         0.\n",
      "  0.         0.         0.         0.        ]\n",
      " [0.         0.         0.         0.         0.         0.\n",
      "  0.54509804 0.80392157 0.78431373 0.81176471 0.74509804 0.75294118\n",
      "  0.82352941 0.82352941 0.81568627 0.83137255 0.81568627 0.77254902\n",
      "  0.78823529 0.82352941 0.80784314 0.80392157 0.3254902  0.\n",
      "  0.         0.         0.         0.        ]\n",
      " [0.         0.         0.         0.         0.         0.00784314\n",
      "  0.76862745 0.8627451  0.78431373 0.78431373 0.74509804 0.75686275\n",
      "  0.78039216 0.87058824 0.87058824 0.88235294 0.78039216 0.77647059\n",
      "  0.82352941 0.83137255 0.85490196 0.89019608 0.74117647 0.\n",
      "  0.         0.         0.         0.        ]\n",
      " [0.         0.         0.         0.         0.         0.\n",
      "  0.         0.63529412 0.84313725 0.78039216 0.75294118 0.76862745\n",
      "  0.76470588 0.8        0.86666667 0.78431373 0.76470588 0.80392157\n",
      "  0.81568627 0.85490196 0.92156863 0.66666667 0.         0.\n",
      "  0.         0.         0.         0.        ]\n",
      " [0.         0.         0.         0.         0.         0.\n",
      "  0.         0.         0.6745098  0.94117647 0.75294118 0.8\n",
      "  0.79607843 0.80784314 0.79607843 0.78039216 0.80784314 0.84313725\n",
      "  0.82745098 0.90980392 0.44705882 0.         0.         0.\n",
      "  0.         0.         0.         0.        ]\n",
      " [0.         0.         0.         0.         0.         0.\n",
      "  0.00784314 0.         0.         0.1254902  0.92156863 0.78431373\n",
      "  0.80784314 0.81568627 0.80392157 0.8        0.81568627 0.84313725\n",
      "  0.98823529 0.03921569 0.         0.         0.         0.\n",
      "  0.         0.         0.         0.        ]\n",
      " [0.         0.         0.         0.         0.         0.00392157\n",
      "  0.         0.01176471 0.         0.04705882 0.96862745 0.78823529\n",
      "  0.81568627 0.82352941 0.80784314 0.81568627 0.82745098 0.84705882\n",
      "  1.         0.         0.         0.         0.         0.\n",
      "  0.         0.         0.         0.        ]\n",
      " [0.         0.         0.         0.         0.         0.\n",
      "  0.         0.00784314 0.         0.01960784 0.96862745 0.80392157\n",
      "  0.83921569 0.81176471 0.81568627 0.82745098 0.82745098 0.8627451\n",
      "  0.98431373 0.         0.         0.00392157 0.         0.\n",
      "  0.         0.         0.         0.        ]\n",
      " [0.         0.         0.         0.         0.         0.\n",
      "  0.         0.00392157 0.         0.         0.94509804 0.82352941\n",
      "  0.82352941 0.81176471 0.83529412 0.83921569 0.82745098 0.87058824\n",
      "  0.94509804 0.         0.         0.00392157 0.         0.\n",
      "  0.         0.         0.         0.        ]\n",
      " [0.         0.         0.         0.         0.         0.\n",
      "  0.00392157 0.         0.         0.         0.79215686 0.85098039\n",
      "  0.80784314 0.82745098 0.84705882 0.85882353 0.83137255 0.88627451\n",
      "  0.88627451 0.         0.         0.00392157 0.         0.\n",
      "  0.         0.         0.         0.        ]\n",
      " [0.         0.         0.         0.         0.         0.00392157\n",
      "  0.         0.         0.         0.         0.83921569 0.83529412\n",
      "  0.81568627 0.8        0.8745098  0.82352941 0.83529412 0.84705882\n",
      "  0.83529412 0.06666667 0.         0.00784314 0.         0.\n",
      "  0.         0.         0.         0.        ]\n",
      " [0.         0.         0.         0.         0.         0.\n",
      "  0.         0.00784314 0.         0.38823529 0.85490196 0.79215686\n",
      "  0.82745098 0.80392157 0.8627451  0.80392157 0.84313725 0.80392157\n",
      "  0.89803922 0.59607843 0.         0.         0.         0.\n",
      "  0.         0.         0.         0.        ]\n",
      " [0.         0.         0.         0.         0.         0.\n",
      "  0.         0.00392157 0.         0.64705882 0.83921569 0.8\n",
      "  0.82745098 0.83529412 0.83921569 0.82745098 0.85098039 0.81568627\n",
      "  0.85882353 0.79607843 0.         0.         0.         0.\n",
      "  0.         0.         0.         0.        ]\n",
      " [0.         0.         0.         0.         0.         0.\n",
      "  0.         0.         0.         0.7372549  0.83529412 0.81568627\n",
      "  0.80784314 0.83137255 0.85490196 0.81568627 0.84705882 0.8\n",
      "  0.85490196 0.77254902 0.         0.         0.00784314 0.\n",
      "  0.         0.         0.         0.        ]\n",
      " [0.         0.         0.         0.         0.         0.\n",
      "  0.00392157 0.         0.         0.83529412 0.82352941 0.84705882\n",
      "  0.8        0.83921569 0.85098039 0.80392157 0.85098039 0.81568627\n",
      "  0.84313725 0.83137255 0.00784314 0.         0.00784314 0.\n",
      "  0.         0.         0.         0.        ]\n",
      " [0.         0.         0.         0.         0.         0.\n",
      "  0.00784314 0.         0.         0.88235294 0.82352941 0.85882353\n",
      "  0.78823529 0.83921569 0.85490196 0.80392157 0.84705882 0.81176471\n",
      "  0.83921569 0.86666667 0.06666667 0.         0.00784314 0.\n",
      "  0.         0.         0.         0.        ]\n",
      " [0.         0.         0.         0.         0.         0.\n",
      "  0.00784314 0.         0.         0.77254902 0.82745098 0.84313725\n",
      "  0.78431373 0.84705882 0.85882353 0.82352941 0.84313725 0.81568627\n",
      "  0.83529412 0.89019608 0.1372549  0.         0.00784314 0.\n",
      "  0.         0.         0.         0.        ]\n",
      " [0.         0.         0.         0.         0.         0.\n",
      "  0.01176471 0.         0.01176471 0.80784314 0.82352941 0.85882353\n",
      "  0.78039216 0.84313725 0.87058824 0.82352941 0.84313725 0.82745098\n",
      "  0.82745098 0.89411765 0.23529412 0.         0.00784314 0.\n",
      "  0.         0.         0.         0.        ]\n",
      " [0.         0.         0.         0.         0.         0.\n",
      "  0.00784314 0.         0.04313725 0.81568627 0.82745098 0.8627451\n",
      "  0.78431373 0.84313725 0.8745098  0.82745098 0.83921569 0.83137255\n",
      "  0.82352941 0.89803922 0.27058824 0.         0.00784314 0.\n",
      "  0.         0.         0.         0.        ]\n",
      " [0.         0.         0.         0.         0.         0.\n",
      "  0.00784314 0.         0.02745098 0.81176471 0.83529412 0.85490196\n",
      "  0.78823529 0.84705882 0.87058824 0.83921569 0.83529412 0.83529412\n",
      "  0.82745098 0.89411765 0.23921569 0.         0.00784314 0.\n",
      "  0.         0.         0.         0.        ]\n",
      " [0.         0.         0.         0.         0.         0.\n",
      "  0.00784314 0.         0.         0.79607843 0.84313725 0.85098039\n",
      "  0.78823529 0.84705882 0.87058824 0.83529412 0.83529412 0.83529412\n",
      "  0.83137255 0.89411765 0.18431373 0.         0.01176471 0.\n",
      "  0.         0.         0.         0.        ]\n",
      " [0.         0.         0.         0.         0.         0.\n",
      "  0.00784314 0.         0.         0.76862745 0.85490196 0.84705882\n",
      "  0.78823529 0.84705882 0.8745098  0.83921569 0.83137255 0.84313725\n",
      "  0.83921569 0.88627451 0.10588235 0.         0.00784314 0.\n",
      "  0.         0.         0.         0.        ]\n",
      " [0.         0.         0.         0.         0.         0.\n",
      "  0.00784314 0.         0.         0.86666667 0.86666667 0.83137255\n",
      "  0.79215686 0.84705882 0.87058824 0.84705882 0.83137255 0.83529412\n",
      "  0.83137255 0.86666667 0.06666667 0.         0.01176471 0.\n",
      "  0.         0.         0.         0.        ]\n",
      " [0.         0.         0.         0.         0.         0.\n",
      "  0.00392157 0.         0.         0.79607843 0.89019608 0.83137255\n",
      "  0.83529412 0.89411765 0.92156863 0.89803922 0.88627451 0.88627451\n",
      "  0.85098039 0.88235294 0.06666667 0.         0.00784314 0.\n",
      "  0.         0.         0.         0.        ]\n",
      " [0.         0.         0.         0.         0.         0.\n",
      "  0.         0.         0.         0.69019608 0.84705882 0.79215686\n",
      "  0.72156863 0.69803922 0.7372549  0.72156863 0.7254902  0.71764706\n",
      "  0.78039216 0.81176471 0.01176471 0.         0.00784314 0.\n",
      "  0.         0.         0.         0.        ]]\n"
     ]
    },
    {
     "data": {
      "image/png": "[encoded data removed]",
      "text/plain": [
       "<Figure size 432x288 with 1 Axes>"
      ]
     },
     "metadata": {
      "needs_background": "light"
     },
     "output_type": "display_data"
    }
   ],
   "source": [
    "plt.imshow(training_images[20])\n",
    "print(training_labels[20])\n",
    "print(training_images[20])"
   ]
  },
  {
   "cell_type": "markdown",
   "id": "future-romantic",
   "metadata": {},
   "source": [
    "## Making model\n",
    "\n",
    "we will make 3 layers of NN. The first layer is the input layer. The second layer is the hidden layer, this layer will try to figure out the role between the input layer & output layer. The last is the output layer."
   ]
  },
  {
   "cell_type": "code",
   "execution_count": 5,
   "id": "recorded-tours",
   "metadata": {},
   "outputs": [],
   "source": [
    "model  = tf.keras.models.Sequential([tf.keras.layers.Flatten(),\n",
    "                                    tf.keras.layers.Dense(512, activation=tf.nn.relu),\n",
    "                                    tf.keras.layers.Dense(10, activation=tf.nn.softmax)])"
   ]
  },
  {
   "cell_type": "markdown",
   "id": "silent-command",
   "metadata": {},
   "source": [
    "* `Sequential`: That defines a sequence of layers in the neural network\n",
    "* `Flatten`: That turns the data set into a 1-dimensional set\n",
    "* `Dense`: Adds a layer of neurons, each layer needs an **activation function** to tell the neurons what to do\n",
    "* `Relu`: \"if x>0 retuurn x, else return 0\"\n",
    "* `softmax`: Takes a set of values, and picks the biggest one."
   ]
  },
  {
   "cell_type": "markdown",
   "id": "flying-moscow",
   "metadata": {},
   "source": [
    "## Compiling & training"
   ]
  },
  {
   "cell_type": "code",
   "execution_count": 6,
   "id": "satisfactory-newton",
   "metadata": {},
   "outputs": [
    {
     "name": "stdout",
     "output_type": "stream",
     "text": [
      "Epoch 1/6\n",
      "1875/1875 [==============================] - 8s 4ms/step - loss: 0.5853 - accuracy: 0.7964\n",
      "Epoch 2/6\n",
      "1875/1875 [==============================] - 14s 8ms/step - loss: 0.3643 - accuracy: 0.8648\n",
      "Epoch 3/6\n",
      "1875/1875 [==============================] - 22s 12ms/step - loss: 0.3224 - accuracy: 0.8806\n",
      "Epoch 4/6\n",
      "1875/1875 [==============================] - 20s 11ms/step - loss: 0.2970 - accuracy: 0.8893\n",
      "Epoch 5/6\n",
      "1875/1875 [==============================] - 32s 17ms/step - loss: 0.2812 - accuracy: 0.8962\n",
      "Epoch 6/6\n",
      "1875/1875 [==============================] - 20s 11ms/step - loss: 0.2631 - accuracy: 0.9012\n"
     ]
    },
    {
     "data": {
      "text/plain": [
       "<tensorflow.python.keras.callbacks.History at 0x7ff8b68489d0>"
      ]
     },
     "execution_count": 6,
     "metadata": {},
     "output_type": "execute_result"
    }
   ],
   "source": [
    "model.compile(optimizer=tf.optimizers.Adam(),\n",
    "             loss='sparse_categorical_crossentropy',\n",
    "             metrics=['accuracy'])\n",
    "model.fit(training_images, training_labels, epochs=6)"
   ]
  },
  {
   "cell_type": "markdown",
   "id": "advisory-doctor",
   "metadata": {},
   "source": [
    "## Testing"
   ]
  },
  {
   "cell_type": "code",
   "execution_count": 7,
   "id": "spare-obligation",
   "metadata": {},
   "outputs": [
    {
     "name": "stdout",
     "output_type": "stream",
     "text": [
      "313/313 [==============================] - 2s 6ms/step - loss: 0.3298 - accuracy: 0.8855\n"
     ]
    },
    {
     "data": {
      "text/plain": [
       "[0.32982078194618225, 0.8855000138282776]"
      ]
     },
     "execution_count": 7,
     "metadata": {},
     "output_type": "execute_result"
    }
   ],
   "source": [
    "model.evaluate(test_images, test_labels)"
   ]
  },
  {
   "cell_type": "markdown",
   "id": "streaming-queens",
   "metadata": {},
   "source": [
    "## Clasifications"
   ]
  },
  {
   "cell_type": "code",
   "execution_count": 8,
   "id": "banner-failing",
   "metadata": {},
   "outputs": [
    {
     "name": "stdout",
     "output_type": "stream",
     "text": [
      "[2.0735778e-09 3.5358565e-09 1.9456355e-10 1.9273813e-11 9.5606877e-11\n",
      " 7.5811893e-04 2.0232498e-09 8.2178172e-03 8.2251544e-10 9.9102414e-01]\n"
     ]
    }
   ],
   "source": [
    "classifications = model.predict(test_images)\n",
    "print(classifications[0])"
   ]
  },
  {
   "cell_type": "markdown",
   "id": "selective-links",
   "metadata": {},
   "source": [
    "The output of this model is a list of 10 numbers. The numbers are a probability that this item is each of 10 classes. \n",
    "\n",
    "The list having the 10th element being the highest value means that the Neural Network has predicted that the item it is classifying is most likely an ankle boot.\n"
   ]
  },
  {
   "cell_type": "code",
   "execution_count": 9,
   "id": "federal-notification",
   "metadata": {},
   "outputs": [
    {
     "name": "stdout",
     "output_type": "stream",
     "text": [
      "9\n"
     ]
    },
    {
     "data": {
      "text/plain": [
       "<matplotlib.image.AxesImage at 0x7ff86c7897c0>"
      ]
     },
     "execution_count": 9,
     "metadata": {},
     "output_type": "execute_result"
    },
    {
     "data": {
      "image/png": "[encoded data removed]",
      "text/plain": [
       "<Figure size 432x288 with 1 Axes>"
      ]
     },
     "metadata": {
      "needs_background": "light"
     },
     "output_type": "display_data"
    }
   ],
   "source": [
    "print(test_labels[0])\n",
    "plt.imshow(test_images[0])"
   ]
  },
  {
   "cell_type": "markdown",
   "id": "public-laugh",
   "metadata": {},
   "source": [
    "## Using callbacks to control training"
   ]
  },
  {
   "cell_type": "code",
   "execution_count": 12,
   "id": "lovely-effects",
   "metadata": {},
   "outputs": [
    {
     "name": "stdout",
     "output_type": "stream",
     "text": [
      "Epoch 1/10\n",
      "1875/1875 [==============================] - 13s 7ms/step - loss: 0.5783 - accuracy: 0.7981\n",
      "Epoch 2/10\n",
      "1875/1875 [==============================] - 11s 6ms/step - loss: 0.3665 - accuracy: 0.8667\n",
      "Epoch 3/10\n",
      "1875/1875 [==============================] - 19s 10ms/step - loss: 0.3260 - accuracy: 0.8800\n",
      "Epoch 4/10\n",
      "1875/1875 [==============================] - 27s 15ms/step - loss: 0.2988 - accuracy: 0.8890\n",
      "Epoch 5/10\n",
      "1875/1875 [==============================] - 14s 8ms/step - loss: 0.2722 - accuracy: 0.9011\n",
      "Epoch 6/10\n",
      "1875/1875 [==============================] - 19s 10ms/step - loss: 0.2588 - accuracy: 0.9038\n",
      "Epoch 7/10\n",
      "1875/1875 [==============================] - 14s 8ms/step - loss: 0.2509 - accuracy: 0.9055\n",
      "Epoch 8/10\n",
      "1875/1875 [==============================] - 10s 6ms/step - loss: 0.2365 - accuracy: 0.9109\n",
      "Epoch 9/10\n",
      "1875/1875 [==============================] - 15s 8ms/step - loss: 0.2274 - accuracy: 0.9136\n",
      "Epoch 10/10\n",
      "1875/1875 [==============================] - 24s 13ms/step - loss: 0.2186 - accuracy: 0.9185\n"
     ]
    },
    {
     "data": {
      "text/plain": [
       "<tensorflow.python.keras.callbacks.History at 0x7ff86c64a8b0>"
      ]
     },
     "execution_count": 12,
     "metadata": {},
     "output_type": "execute_result"
    }
   ],
   "source": [
    "class myCallback(tf.keras.callbacks.Callback):\n",
    "    def on_epoch_end(self, epoch, logs={}):\n",
    "        if(logs.get('accuracy')>0.99):\n",
    "            print(\"\\nReached 90% accuracy so cancelling training!\")\n",
    "            self.model.stop_training = True\n",
    "\n",
    "callbacks = myCallback()\n",
    "\n",
    "model  = tf.keras.models.Sequential([tf.keras.layers.Flatten(),\n",
    "                                    tf.keras.layers.Dense(512, activation=tf.nn.relu),\n",
    "                                    tf.keras.layers.Dense(10, activation=tf.nn.softmax)])\n",
    "model.compile(optimizer=tf.optimizers.Adam(),\n",
    "             loss='sparse_categorical_crossentropy',\n",
    "             metrics=['accuracy'])\n",
    "\n",
    "model.fit(training_images, training_labels, epochs=10, callbacks=[callbacks])"
   ]
  },
  {
   "cell_type": "code",
   "execution_count": 13,
   "id": "severe-bahrain",
   "metadata": {},
   "outputs": [
    {
     "name": "stdout",
     "output_type": "stream",
     "text": [
      "313/313 [==============================] - 1s 2ms/step - loss: 0.3506 - accuracy: 0.8765\n"
     ]
    },
    {
     "data": {
      "text/plain": [
       "[0.3505660891532898, 0.8765000104904175]"
      ]
     },
     "execution_count": 13,
     "metadata": {},
     "output_type": "execute_result"
    }
   ],
   "source": [
    "model.evaluate(test_images, test_labels)"
   ]
  },
  {
   "cell_type": "code",
   "execution_count": null,
   "id": "respiratory-investing",
   "metadata": {},
   "outputs": [],
   "source": []
  }
 ],
 "metadata": {
  "kernelspec": {
   "display_name": "Python 3",
   "language": "python",
   "name": "python3"
  },
  "language_info": {
   "codemirror_mode": {
    "name": "ipython",
    "version": 3
   },
   "file_extension": ".py",
   "mimetype": "text/x-python",
   "name": "python",
   "nbconvert_exporter": "python",
   "pygments_lexer": "ipython3",
   "version": "3.9.2"
  }
 },
 "nbformat": 4,
 "nbformat_minor": 5
}
